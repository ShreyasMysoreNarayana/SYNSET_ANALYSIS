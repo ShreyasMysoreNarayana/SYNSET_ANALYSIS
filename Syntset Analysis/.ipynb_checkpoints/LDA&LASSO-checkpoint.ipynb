{
 "cells": [
  {
   "cell_type": "code",
   "execution_count": 9,
   "id": "585c71f8-845f-4702-b204-69a165f37f2e",
   "metadata": {},
   "outputs": [],
   "source": [
    "import argparse\n",
    "import pandas as pd\n",
    "from sklearn.linear_model import Lasso\n",
    "from sklearn.preprocessing import StandardScaler\n",
    "from sklearn.pipeline import Pipeline\n",
    "from sklearn.discriminant_analysis import LinearDiscriminantAnalysis as LDA\n",
    "from sklearn.model_selection import StratifiedKFold\n",
    "from sklearn.metrics import precision_score, recall_score, accuracy_score\n",
    "from sklearn.feature_selection import VarianceThreshold\n",
    "import numpy as np"
   ]
  },
  {
   "cell_type": "code",
   "execution_count": 26,
   "id": "e6261878-756b-49d1-a874-6f3ae2761478",
   "metadata": {},
   "outputs": [],
   "source": [
    "# Step 1: Variance and Correlation Thresholding\n",
    "def variance_and_correlation_thresholding(df, var_thresh=0.01, corr_thresh=0.85):\n",
    "    # Variance Thresholding\n",
    "    selector = VarianceThreshold(threshold=var_thresh)\n",
    "    X_var_filtered = selector.fit_transform(df)\n",
    "\n",
    "    # Correlation Thresholding\n",
    "    df_var_filtered = pd.DataFrame(X_var_filtered, columns=df.columns[selector.get_support()])\n",
    "    corr_matrix = df_var_filtered.corr().abs()\n",
    "    upper_tri = corr_matrix.where(np.triu(np.ones(corr_matrix.shape), k=1).astype(bool))\n",
    "    to_drop = [column for column in upper_tri.columns if any(upper_tri[column] > corr_thresh)]\n",
    "    df_corr_filtered = df_var_filtered.drop(columns=to_drop)\n",
    "    \n",
    "    return df_corr_filtered"
   ]
  },
  {
   "cell_type": "code",
   "execution_count": 27,
   "id": "5ef4bc58-d4b5-4f78-81eb-279b60873c3f",
   "metadata": {},
   "outputs": [],
   "source": [
    "# Step 2: Apply Lasso for Feature Selection\n",
    "def lasso_feature_selection(X, y, alpha=0.001):\n",
    "    lasso = Lasso(alpha=alpha, max_iter=10000)\n",
    "    lasso.fit(X, y)\n",
    "    selected_features = X.columns[lasso.coef_ != 0]\n",
    "    return X[selected_features]"
   ]
  },
  {
   "cell_type": "code",
   "execution_count": 28,
   "id": "b5cc16aa-2611-454e-b2fa-1ddede564432",
   "metadata": {},
   "outputs": [],
   "source": [
    "# Step 3: Apply LDA for Dimensionality Reduction and Classification\n",
    "def lda_with_cross_validation(X, y):\n",
    "    lda = LDA(n_components=1)\n",
    "    classifier = LogisticRegression(max_iter=1000)  # Added LogisticRegression here\n",
    "    \n",
    "    skf = StratifiedKFold(n_splits=5)\n",
    "    precision_scores = []\n",
    "    recall_scores = []\n",
    "    accuracy_scores = []\n",
    "\n",
    "    for train_index, test_index in skf.split(X, y):\n",
    "        X_train_fold, X_test_fold = X.iloc[train_index], X.iloc[test_index]\n",
    "        y_train_fold, y_test_fold = y.iloc[train_index], y.iloc[test_index]\n",
    "\n",
    "        X_train_lda = lda.fit_transform(X_train_fold, y_train_fold)\n",
    "        X_test_lda = lda.transform(X_test_fold)\n",
    "        \n",
    "        classifier.fit(X_train_lda, y_train_fold)\n",
    "        y_pred_fold = classifier.predict(X_test_lda)\n",
    "        \n",
    "        precision_scores.append(precision_score(y_test_fold, y_pred_fold, average='macro'))\n",
    "        recall_scores.append(recall_score(y_test_fold, y_pred_fold, average='macro'))\n",
    "        accuracy_scores.append(classifier.score(X_test_lda, y_test_fold))\n",
    "\n",
    "    return {\n",
    "        \"precision\": np.mean(precision_scores),\n",
    "        \"recall\": np.mean(recall_scores),\n",
    "        \"accuracy\": np.mean(accuracy_scores)\n",
    "    }"
   ]
  },
  {
   "cell_type": "code",
   "execution_count": 29,
   "id": "3ed48b76-d9ca-44fd-91ee-6c62481e41bd",
   "metadata": {},
   "outputs": [],
   "source": [
    "# Step 4: Compare feature sets\n",
    "def compare_feature_sets(selected_features_dict):\n",
    "    print(\"\\nComparing selected features across datasets:\")\n",
    "    for dataset, features in selected_features_dict.items():\n",
    "        print(f\"\\nSelected features for {dataset}:\")\n",
    "        print(features)\n",
    "    \n",
    "    common_features = set.intersection(*map(set, selected_features_dict.values()))\n",
    "    print(f\"\\nCommon selected features across all datasets: {common_features}\")\n"
   ]
  },
  {
   "cell_type": "code",
   "execution_count": 30,
   "id": "d6599ba0-913f-45c2-9312-9a7da6b84a42",
   "metadata": {},
   "outputs": [
    {
     "name": "stdout",
     "output_type": "stream",
     "text": [
      "\n",
      "LDA results for original dataset:\n",
      "{'precision': 0.500110431619759, 'recall': 0.5018386740661176, 'accuracy': 0.668611488014473}\n",
      "\n",
      "LDA results for resampled dataset:\n",
      "{'precision': 0.6390247374770823, 'recall': 0.6369897959183675, 'accuracy': 0.6371134020618556}\n",
      "\n",
      "LDA results for undersampled dataset:\n",
      "{'precision': 0.542360509115927, 'recall': 0.5394736842105263, 'accuracy': 0.5384384384384384}\n",
      "\n",
      "Comparing selected features across datasets:\n",
      "\n",
      "Selected features for original:\n",
      "['total intracranial', 'left lateral ventricle', 'left inferior lateral ventricle', 'left cerebellum white matter', 'left thalamus', 'left caudate', 'left putamen', 'left pallidum', '3rd ventricle', '4th ventricle', 'left hippocampus', 'left amygdala', 'csf', 'left accumbens area', 'right inferior lateral ventricle', 'right pallidum', 'right hippocampus', 'right amygdala', 'right accumbens area', 'ctx-lh-bankssts', 'ctx-lh-caudalmiddlefrontal', 'ctx-lh-cuneus', 'ctx-lh-entorhinal', 'ctx-lh-inferiorparietal', 'ctx-lh-inferiortemporal', 'ctx-lh-lateraloccipital', 'ctx-lh-lingual', 'ctx-lh-parsopercularis', 'ctx-lh-parstriangularis', 'ctx-lh-pericalcarine', 'ctx-lh-supramarginal', 'ctx-lh-frontalpole', 'ctx-lh-transversetemporal', 'ctx-rh-bankssts', 'ctx-rh-caudalmiddlefrontal', 'ctx-rh-inferiorparietal', 'ctx-rh-lingual', 'ctx-rh-frontalpole', 'ctx-rh-temporalpole']\n",
      "\n",
      "Selected features for resampled:\n",
      "['general white matter', 'general grey matter', 'general csf', 'cerebellum', 'total intracranial', 'left lateral ventricle', 'left cerebellum white matter', 'left thalamus', 'left caudate', 'left putamen', 'left pallidum', '3rd ventricle', '4th ventricle', 'csf', 'left accumbens area', 'right inferior lateral ventricle', 'right pallidum', 'right hippocampus', 'right amygdala', 'right accumbens area', 'ctx-lh-bankssts', 'ctx-lh-caudalmiddlefrontal', 'ctx-lh-cuneus', 'ctx-lh-entorhinal', 'ctx-lh-inferiorparietal', 'ctx-lh-lateraloccipital', 'ctx-lh-parsopercularis', 'ctx-lh-parstriangularis', 'ctx-lh-pericalcarine', 'ctx-lh-supramarginal', 'ctx-lh-temporalpole', 'ctx-lh-transversetemporal', 'ctx-rh-bankssts', 'ctx-rh-caudalmiddlefrontal', 'ctx-rh-cuneus', 'ctx-rh-inferiorparietal', 'ctx-rh-lateraloccipital', 'ctx-rh-lingual', 'ctx-rh-parsopercularis', 'ctx-rh-parstriangularis', 'ctx-rh-frontalpole', 'ctx-rh-temporalpole']\n",
      "\n",
      "Selected features for undersampled:\n",
      "['general white matter', 'general grey matter', 'cerebellum', 'brainstem', 'putamen+pallidum', 'hippocampus+amygdala', 'total intracranial', 'left inferior lateral ventricle', 'left cerebellum white matter', 'left thalamus', 'left caudate', 'left putamen', 'left pallidum', '3rd ventricle', '4th ventricle', 'brain-stem', 'left hippocampus', 'left amygdala', 'csf', 'left accumbens area', 'right inferior lateral ventricle', 'right pallidum', 'right hippocampus', 'right amygdala', 'right accumbens area', 'ctx-lh-bankssts', 'ctx-lh-caudalmiddlefrontal', 'ctx-lh-cuneus', 'ctx-lh-inferiorparietal', 'ctx-lh-lateraloccipital', 'ctx-lh-paracentral', 'ctx-lh-parsopercularis', 'ctx-lh-parsorbitalis', 'ctx-lh-parstriangularis', 'ctx-lh-pericalcarine', 'ctx-lh-supramarginal', 'ctx-lh-frontalpole', 'ctx-lh-temporalpole', 'ctx-lh-transversetemporal', 'ctx-rh-bankssts', 'ctx-rh-caudalmiddlefrontal', 'ctx-rh-cuneus', 'ctx-rh-inferiorparietal', 'ctx-rh-lateraloccipital', 'ctx-rh-lingual', 'ctx-rh-parsorbitalis', 'ctx-rh-parstriangularis', 'ctx-rh-pericalcarine', 'ctx-rh-frontalpole']\n",
      "\n",
      "Common selected features across all datasets: {'total intracranial', 'ctx-rh-caudalmiddlefrontal', 'ctx-lh-cuneus', 'left caudate', 'right pallidum', 'left thalamus', 'right hippocampus', 'left putamen', '3rd ventricle', 'right accumbens area', 'ctx-rh-bankssts', 'ctx-lh-transversetemporal', 'ctx-lh-inferiorparietal', 'ctx-lh-caudalmiddlefrontal', 'ctx-lh-supramarginal', 'ctx-rh-inferiorparietal', 'csf', 'left cerebellum white matter', 'left accumbens area', 'ctx-rh-lingual', 'right amygdala', 'ctx-lh-parstriangularis', 'ctx-rh-frontalpole', 'ctx-lh-parsopercularis', '4th ventricle', 'ctx-lh-lateraloccipital', 'ctx-lh-pericalcarine', 'left pallidum', 'right inferior lateral ventricle', 'ctx-lh-bankssts'}\n"
     ]
    }
   ],
   "source": [
    "# Main function to combine LASSO + LDA and compare datasets\n",
    "def main():\n",
    "    # Files are named explicitly without using paths\n",
    "    datasets = {\n",
    "        \"original\": \"synth_seg.csv\",\n",
    "        \"resampled\": \"resampled_data.csv\",\n",
    "        \"undersampled\": \"undersampled_data.csv\"\n",
    "    }\n",
    "    \n",
    "    selected_features_dict = {}\n",
    "\n",
    "    for name, file_path in datasets.items():\n",
    "        # Load data\n",
    "        data = pd.read_csv(file_path)\n",
    "        y = data['decision'].astype(bool)\n",
    "        X = data.drop(columns=['Subject', 'decision', 'neuropsych_score'], axis=1)\n",
    "        \n",
    "        # Step 1: Apply variance and correlation thresholding\n",
    "        X_filtered = variance_and_correlation_thresholding(X)\n",
    "        \n",
    "        # Step 2: Apply Lasso for feature selection\n",
    "        X_lasso_selected = lasso_feature_selection(X_filtered, y)\n",
    "        \n",
    "        # Store selected features\n",
    "        selected_features_dict[name] = X_lasso_selected.columns.tolist()\n",
    "        \n",
    "        # Step 3: Apply LDA and report performance (optional)\n",
    "        print(f\"\\nLDA results for {name} dataset:\")\n",
    "        lda_results = lda_with_cross_validation(X_lasso_selected, y)\n",
    "        print(lda_results)\n",
    "\n",
    "    # Step 4: Compare selected features across datasets\n",
    "    compare_feature_sets(selected_features_dict)\n",
    "\n",
    "if __name__ == \"__main__\":\n",
    "    main()"
   ]
  },
  {
   "cell_type": "code",
   "execution_count": null,
   "id": "f3b32fd3-7cc7-4dab-957d-61bc2d799b2e",
   "metadata": {},
   "outputs": [],
   "source": []
  }
 ],
 "metadata": {
  "kernelspec": {
   "display_name": "Python 3 (ipykernel)",
   "language": "python",
   "name": "python3"
  },
  "language_info": {
   "codemirror_mode": {
    "name": "ipython",
    "version": 3
   },
   "file_extension": ".py",
   "mimetype": "text/x-python",
   "name": "python",
   "nbconvert_exporter": "python",
   "pygments_lexer": "ipython3",
   "version": "3.11.5"
  }
 },
 "nbformat": 4,
 "nbformat_minor": 5
}
